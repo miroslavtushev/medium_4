{
 "cells": [
  {
   "cell_type": "code",
   "execution_count": 1,
   "id": "6747aa59",
   "metadata": {},
   "outputs": [],
   "source": [
    "import matplotlib.pyplot as plt\n",
    "import numpy as np\n",
    "from scipy.stats import norm, ttest_ind"
   ]
  },
  {
   "cell_type": "code",
   "execution_count": 8,
   "id": "e367c939",
   "metadata": {
    "scrolled": false
   },
   "outputs": [
    {
     "data": {
      "image/png": "[encoded data removed]",
      "text/plain": [
       "<Figure size 432x288 with 1 Axes>"
      ]
     },
     "metadata": {
      "needs_background": "light"
     },
     "output_type": "display_data"
    }
   ],
   "source": [
    "scale1 = 2\n",
    "size1 = 100\n",
    "\n",
    "x1 = np.linspace(norm.ppf(0.01, loc=12, scale=3), norm.ppf(0.99, loc=12, scale=3), 100)\n",
    "r1 = norm.rvs(size=size1, loc=12, scale=scale1)\n",
    "fig, ax = plt.subplots(1, 1)\n",
    "ax.hist(r1, density=True, histtype='stepfilled', bins=50, alpha=0.3, color='teal')\n",
    "\n",
    "r2 = norm.rvs(size=size1, loc=14, scale=scale1)\n",
    "ax.hist(r2, density=True, histtype='stepfilled', bins=50, alpha=0.3, color='mediumorchid')\n",
    "plt.xlabel(\"n=100, stdev=2, t=-6.82\")\n",
    "fig.savefig(\"1.png\", dpi=300)"
   ]
  },
  {
   "cell_type": "code",
   "execution_count": 3,
   "id": "f04f8581",
   "metadata": {},
   "outputs": [
    {
     "data": {
      "text/plain": [
       "Ttest_indResult(statistic=-6.815566573579092, pvalue=1.1054488371915487e-10)"
      ]
     },
     "execution_count": 3,
     "metadata": {},
     "output_type": "execute_result"
    }
   ],
   "source": [
    "ttest_ind(r1, r2)"
   ]
  },
  {
   "cell_type": "code",
   "execution_count": 9,
   "id": "ad9ed458",
   "metadata": {},
   "outputs": [
    {
     "data": {
      "image/png": "[encoded data removed]",
      "text/plain": [
       "<Figure size 432x288 with 1 Axes>"
      ]
     },
     "metadata": {
      "needs_background": "light"
     },
     "output_type": "display_data"
    }
   ],
   "source": [
    "scale2 = 15\n",
    "size2 = 30\n",
    "\n",
    "r3 = norm.rvs(size=size1, loc=12, scale=scale2)\n",
    "fig, ax = plt.subplots(1, 1)\n",
    "ax.hist(r3, density=True, histtype='stepfilled', bins=50, alpha=0.3, color='teal')\n",
    "\n",
    "r4 = norm.rvs(size=size1, loc=14, scale=scale2)\n",
    "ax.hist(r4, density=True, histtype='stepfilled', bins=50, alpha=0.3, color='mediumorchid')\n",
    "plt.xlabel(\"n=30, stdev=15, t=-0.17\")\n",
    "fig.savefig(\"2.png\", dpi=300)"
   ]
  },
  {
   "cell_type": "code",
   "execution_count": 5,
   "id": "5dfd9713",
   "metadata": {},
   "outputs": [
    {
     "data": {
      "text/plain": [
       "Ttest_indResult(statistic=-0.1736369782577843, pvalue=0.8623281587986021)"
      ]
     },
     "execution_count": 5,
     "metadata": {},
     "output_type": "execute_result"
    }
   ],
   "source": [
    "ttest_ind(r3, r4)"
   ]
  },
  {
   "cell_type": "code",
   "execution_count": 10,
   "id": "f53dd074",
   "metadata": {},
   "outputs": [
    {
     "data": {
      "image/png": "[encoded data removed]",
      "text/plain": [
       "<Figure size 432x288 with 1 Axes>"
      ]
     },
     "metadata": {
      "needs_background": "light"
     },
     "output_type": "display_data"
    }
   ],
   "source": [
    "scale1 = 0.5\n",
    "size1 = 1000\n",
    "\n",
    "r5 = norm.rvs(size=size1, loc=12, scale=scale1)\n",
    "fig, ax = plt.subplots(1, 1)\n",
    "ax.hist(r5, density=True, histtype='stepfilled', bins=50, alpha=0.3, color='teal')\n",
    "\n",
    "r6 = norm.rvs(size=size1, loc=14, scale=scale1)\n",
    "ax.hist(r6, density=True, histtype='stepfilled', bins=50, alpha=0.3, color='mediumorchid')\n",
    "plt.xlabel(\"n=1000, stdev=0.5, t=-86.83\")\n",
    "fig.savefig(\"3.png\", dpi=300)"
   ]
  },
  {
   "cell_type": "code",
   "execution_count": 7,
   "id": "a5b16c85",
   "metadata": {},
   "outputs": [
    {
     "data": {
      "text/plain": [
       "Ttest_indResult(statistic=-86.83509808559783, pvalue=0.0)"
      ]
     },
     "execution_count": 7,
     "metadata": {},
     "output_type": "execute_result"
    }
   ],
   "source": [
    "ttest_ind(r5, r6)"
   ]
  },
  {
   "cell_type": "code",
   "execution_count": null,
   "id": "6fd8e626",
   "metadata": {},
   "outputs": [],
   "source": []
  }
 ],
 "metadata": {
  "kernelspec": {
   "display_name": "Python 3",
   "language": "python",
   "name": "python3"
  },
  "language_info": {
   "codemirror_mode": {
    "name": "ipython",
    "version": 3
   },
   "file_extension": ".py",
   "mimetype": "text/x-python",
   "name": "python",
   "nbconvert_exporter": "python",
   "pygments_lexer": "ipython3",
   "version": "3.8.3"
  }
 },
 "nbformat": 4,
 "nbformat_minor": 5
}
